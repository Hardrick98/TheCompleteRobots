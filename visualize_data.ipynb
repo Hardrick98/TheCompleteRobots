{
 "cells": [
  {
   "cell_type": "code",
   "execution_count": 30,
   "id": "c5fadb30",
   "metadata": {},
   "outputs": [
    {
     "data": {
      "text/plain": [
       "dict_keys(['ego1R', 'exoR', 'world'])"
      ]
     },
     "execution_count": 30,
     "metadata": {},
     "output_type": "execute_result"
    }
   ],
   "source": [
    "import joblib\n",
    "\n",
    "data = joblib.load(\"/datasets/Inter-X/motions/G022T002A010R000/data/data_nao_1.pkl\")\n",
    "\n",
    "data.keys()"
   ]
  },
  {
   "cell_type": "code",
   "execution_count": null,
   "id": "984e409a",
   "metadata": {},
   "outputs": [
    {
     "data": {
      "text/plain": [
       "dict_keys(['pose2D', 'pose3D'])"
      ]
     },
     "execution_count": 33,
     "metadata": {},
     "output_type": "execute_result"
    }
   ],
   "source": [
    "data[\"exoR\"].keys()"
   ]
  },
  {
   "cell_type": "code",
   "execution_count": 34,
   "id": "71494c91",
   "metadata": {},
   "outputs": [
    {
     "data": {
      "text/plain": [
       "array([[[532.98717537, 307.20462088],\n",
       "        [538.14133446, 225.15047706],\n",
       "        [538.14133446, 225.15047706],\n",
       "        ...,\n",
       "        [446.00826095, 378.81531742],\n",
       "        [453.8751831 , 362.06803871],\n",
       "        [453.59625191, 370.95121847]],\n",
       "\n",
       "       [[532.7731853 , 307.14033099],\n",
       "        [538.03325203, 225.10100196],\n",
       "        [538.03325203, 225.10100196],\n",
       "        ...,\n",
       "        [445.64425259, 378.78978867],\n",
       "        [453.51655638, 362.01224509],\n",
       "        [453.21865448, 370.89668602]],\n",
       "\n",
       "       [[532.55534117, 307.08762979],\n",
       "        [537.80026012, 224.95839791],\n",
       "        [537.80026012, 224.95839791],\n",
       "        ...,\n",
       "        [445.68606524, 379.00697155],\n",
       "        [453.49976199, 362.16776396],\n",
       "        [453.21078608, 371.06766024]],\n",
       "\n",
       "       ...,\n",
       "\n",
       "       [[489.93142191, 297.6126356 ],\n",
       "        [495.77397984, 203.29538471],\n",
       "        [495.77397984, 203.29538471],\n",
       "        ...,\n",
       "        [480.98381727, 392.2102323 ],\n",
       "        [482.88821511, 366.70249692],\n",
       "        [490.81283381, 377.96377318]],\n",
       "\n",
       "       [[489.17181513, 297.53000793],\n",
       "        [495.04636947, 203.05676315],\n",
       "        [495.04636947, 203.05676315],\n",
       "        ...,\n",
       "        [479.88290495, 392.90001851],\n",
       "        [481.90372966, 367.31647948],\n",
       "        [489.77598514, 378.6258877 ]],\n",
       "\n",
       "       [[488.43879583, 297.45345301],\n",
       "        [494.12122674, 202.76617856],\n",
       "        [494.12122674, 202.76617856],\n",
       "        ...,\n",
       "        [478.48938479, 393.42599297],\n",
       "        [480.57432373, 367.77064632],\n",
       "        [488.45195696, 379.10958656]]], shape=(620, 39, 2))"
      ]
     },
     "execution_count": 34,
     "metadata": {},
     "output_type": "execute_result"
    }
   ],
   "source": [
    "data[\"exoR\"]['pose2D']"
   ]
  }
 ],
 "metadata": {
  "kernelspec": {
   "display_name": "Robots",
   "language": "python",
   "name": "python3"
  },
  "language_info": {
   "codemirror_mode": {
    "name": "ipython",
    "version": 3
   },
   "file_extension": ".py",
   "mimetype": "text/x-python",
   "name": "python",
   "nbconvert_exporter": "python",
   "pygments_lexer": "ipython3",
   "version": "3.11.13"
  }
 },
 "nbformat": 4,
 "nbformat_minor": 5
}
