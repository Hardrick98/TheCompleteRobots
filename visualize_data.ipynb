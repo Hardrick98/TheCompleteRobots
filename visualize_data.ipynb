{
 "cells": [
  {
   "cell_type": "code",
   "execution_count": null,
   "id": "c5fadb30",
   "metadata": {},
   "outputs": [
    {
     "data": {
      "text/plain": [
       "dict_keys(['exoR', 'world', 'ego2R', 'exoL', 'ego1L', 'ego2L', 'ego1R'])"
      ]
     },
     "execution_count": 13,
     "metadata": {},
     "output_type": "execute_result"
    }
   ],
   "source": [
    "import joblib\n",
    "\n",
    "data = joblib.load(\"/datasets/Inter-X/motions/G020T004A024R021/data/nao_2_data.pkl\")\n",
    "\n",
    "data.keys()"
   ]
  },
  {
   "cell_type": "code",
   "execution_count": 14,
   "id": "984e409a",
   "metadata": {},
   "outputs": [
    {
     "data": {
      "text/plain": [
       "dict_keys(['pose2D_total', 'pose2D', 'pose3D_total', 'pose3D', 'camera_params', 'bb2D'])"
      ]
     },
     "execution_count": 14,
     "metadata": {},
     "output_type": "execute_result"
    }
   ],
   "source": [
    "data[\"exoR\"].keys()"
   ]
  },
  {
   "cell_type": "code",
   "execution_count": 17,
   "id": "62b1354c",
   "metadata": {},
   "outputs": [
    {
     "data": {
      "text/plain": [
       "(652, 4)"
      ]
     },
     "execution_count": 17,
     "metadata": {},
     "output_type": "execute_result"
    }
   ],
   "source": [
    "data[\"ego1L\"][\"bb2D\"].shape"
   ]
  },
  {
   "cell_type": "code",
   "execution_count": null,
   "id": "71494c91",
   "metadata": {},
   "outputs": [
    {
     "name": "stdout",
     "output_type": "stream",
     "text": [
      "(14, 2)\n"
     ]
    },
    {
     "ename": "IndexError",
     "evalue": "index 14 is out of bounds for axis 0 with size 14",
     "output_type": "error",
     "traceback": [
      "\u001b[31m---------------------------------------------------------------------------\u001b[39m",
      "\u001b[31mIndexError\u001b[39m                                Traceback (most recent call last)",
      "\u001b[36mCell\u001b[39m\u001b[36m \u001b[39m\u001b[32mIn[16]\u001b[39m\u001b[32m, line 13\u001b[39m\n\u001b[32m      8\u001b[39m mask = [\u001b[32m14\u001b[39m,\u001b[32m15\u001b[39m,\u001b[32m2\u001b[39m,\u001b[32m4\u001b[39m,\u001b[32m5\u001b[39m,\u001b[32m17\u001b[39m,\u001b[32m19\u001b[39m,\u001b[32m20\u001b[39m,\u001b[32m9\u001b[39m,\u001b[32m11\u001b[39m,\u001b[32m13\u001b[39m,\u001b[32m23\u001b[39m,\u001b[32m25\u001b[39m,\u001b[32m26\u001b[39m]\n\u001b[32m     11\u001b[39m \u001b[38;5;28;01mimport\u001b[39;00m\u001b[38;5;250m \u001b[39m\u001b[34;01mnumpy\u001b[39;00m\u001b[38;5;250m \u001b[39m\u001b[38;5;28;01mas\u001b[39;00m\u001b[38;5;250m \u001b[39m\u001b[34;01mnp\u001b[39;00m\n\u001b[32m---> \u001b[39m\u001b[32m13\u001b[39m final = np.unique(\u001b[43mpose\u001b[49m\u001b[43m[\u001b[49m\u001b[43mmask\u001b[49m\u001b[43m]\u001b[49m, axis=\u001b[32m0\u001b[39m, return_index=\u001b[38;5;28;01mTrue\u001b[39;00m)[\u001b[32m1\u001b[39m]\n\u001b[32m     15\u001b[39m \u001b[38;5;28mprint\u001b[39m(\u001b[38;5;28mlen\u001b[39m(final))\n\u001b[32m     16\u001b[39m \u001b[38;5;28mprint\u001b[39m(\u001b[38;5;28msorted\u001b[39m(final))\n",
      "\u001b[31mIndexError\u001b[39m: index 14 is out of bounds for axis 0 with size 14"
     ]
    }
   ],
   "source": [
    "\n",
    "pose = data[\"exoL\"]['pose2D'][0]\n",
    "\n",
    "print(pose.shape)\n",
    "import cv2\n",
    "\n",
    "color = cv2.imread(\"test.png\")\n",
    "\n",
    "mask = [14,15,2,4,5,17,19,20,9,11,13,23,25,26]\n",
    "\n",
    "\n",
    "import numpy as np\n",
    "\n",
    "\n",
    "final = np.unique(pose[mask], axis=0, return_index=True)[1]\n",
    "\n",
    "print(len(final))\n",
    "print(sorted(final))\n",
    "\n",
    "for p in pose[mask]:\n",
    "    cv2.circle(color,center=(int(p[0]),int(p[1])),radius=2,color=(0,0,255),thickness=2)\n",
    "\n",
    "cv2.imwrite(\"test2.png\", color)"
   ]
  },
  {
   "cell_type": "code",
   "execution_count": null,
   "id": "7156b95e",
   "metadata": {},
   "outputs": [],
   "source": []
  }
 ],
 "metadata": {
  "kernelspec": {
   "display_name": "Robots",
   "language": "python",
   "name": "python3"
  },
  "language_info": {
   "codemirror_mode": {
    "name": "ipython",
    "version": 3
   },
   "file_extension": ".py",
   "mimetype": "text/x-python",
   "name": "python",
   "nbconvert_exporter": "python",
   "pygments_lexer": "ipython3",
   "version": "3.11.13"
  }
 },
 "nbformat": 4,
 "nbformat_minor": 5
}
