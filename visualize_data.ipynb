{
 "cells": [
  {
   "cell_type": "code",
   "execution_count": null,
   "id": "c5fadb30",
   "metadata": {},
   "outputs": [
    {
     "data": {
      "text/plain": [
       "dict_keys(['exoR', 'world', 'ego1R', 'ego2R', 'exoL', 'ego1L', 'ego2L'])"
      ]
     },
     "execution_count": 88,
     "metadata": {},
     "output_type": "execute_result"
    }
   ],
   "source": [
    "import joblib\n",
    "\n",
    "data = joblib.load(\"/datasets/Inter-X/motions/G013T000A002R011/data/nao_1_data.pkl\")\n",
    "\n",
    "data.keys()"
   ]
  },
  {
   "cell_type": "code",
   "execution_count": 90,
   "id": "984e409a",
   "metadata": {},
   "outputs": [
    {
     "data": {
      "text/plain": [
       "dict_keys(['pose2D_total', 'pose2D', 'pose3D_total', 'pose3D', 'camera_params'])"
      ]
     },
     "execution_count": 90,
     "metadata": {},
     "output_type": "execute_result"
    }
   ],
   "source": [
    "data[\"exoR\"].keys()"
   ]
  },
  {
   "cell_type": "code",
   "execution_count": 75,
   "id": "62b1354c",
   "metadata": {},
   "outputs": [
    {
     "data": {
      "text/plain": [
       "(620, 14, 2)"
      ]
     },
     "execution_count": 75,
     "metadata": {},
     "output_type": "execute_result"
    }
   ],
   "source": [
    "data[\"exoL\"][\"pose2D\"].shape"
   ]
  },
  {
   "cell_type": "code",
   "execution_count": 70,
   "id": "71494c91",
   "metadata": {},
   "outputs": [
    {
     "name": "stdout",
     "output_type": "stream",
     "text": [
      "(29, 2)\n",
      "14\n",
      "[np.int64(0), np.int64(1), np.int64(2), np.int64(3), np.int64(4), np.int64(5), np.int64(6), np.int64(7), np.int64(8), np.int64(9), np.int64(10), np.int64(11), np.int64(12), np.int64(13)]\n"
     ]
    },
    {
     "data": {
      "text/plain": [
       "True"
      ]
     },
     "execution_count": 70,
     "metadata": {},
     "output_type": "execute_result"
    }
   ],
   "source": [
    "\n",
    "pose = data[\"exoL\"]['pose2D'][0]\n",
    "\n",
    "print(pose.shape)\n",
    "import cv2\n",
    "\n",
    "color = cv2.imread(\"test.png\")\n",
    "\n",
    "mask = [14,15,2,4,5,17,19,20,9,11,13,23,25,26]\n",
    "\n",
    "\n",
    "import numpy as np\n",
    "\n",
    "final = np.unique(pose[mask], axis=0, return_index=True)[1]\n",
    "\n",
    "print(len(final))\n",
    "print(sorted(final))\n",
    "\n",
    "for p in pose[mask]:\n",
    "    cv2.circle(color,center=(int(p[0]),int(p[1])),radius=2,color=(0,0,255),thickness=2)\n",
    "\n",
    "cv2.imwrite(\"test2.png\", color)"
   ]
  }
 ],
 "metadata": {
  "kernelspec": {
   "display_name": "Robots",
   "language": "python",
   "name": "python3"
  },
  "language_info": {
   "codemirror_mode": {
    "name": "ipython",
    "version": 3
   },
   "file_extension": ".py",
   "mimetype": "text/x-python",
   "name": "python",
   "nbconvert_exporter": "python",
   "pygments_lexer": "ipython3",
   "version": "3.11.13"
  }
 },
 "nbformat": 4,
 "nbformat_minor": 5
}
