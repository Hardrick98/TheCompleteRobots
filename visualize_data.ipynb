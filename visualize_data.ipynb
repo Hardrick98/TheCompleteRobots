{
 "cells": [
  {
   "cell_type": "code",
   "execution_count": 5,
   "id": "c5fadb30",
   "metadata": {},
   "outputs": [
    {
     "data": {
      "text/plain": [
       "dict_keys(['2d_poses_ego1L', '3d_poses_world', '3d_poses_ego1L'])"
      ]
     },
     "execution_count": 5,
     "metadata": {},
     "output_type": "execute_result"
    }
   ],
   "source": [
    "import joblib\n",
    "\n",
    "data = joblib.load(\"/home/rick/motions/G022T002A010R000/data/data_g11.pkl\")\n",
    "\n",
    "data.keys()"
   ]
  }
 ],
 "metadata": {
  "kernelspec": {
   "display_name": "Robots",
   "language": "python",
   "name": "python3"
  },
  "language_info": {
   "codemirror_mode": {
    "name": "ipython",
    "version": 3
   },
   "file_extension": ".py",
   "mimetype": "text/x-python",
   "name": "python",
   "nbconvert_exporter": "python",
   "pygments_lexer": "ipython3",
   "version": "3.11.0"
  }
 },
 "nbformat": 4,
 "nbformat_minor": 5
}
