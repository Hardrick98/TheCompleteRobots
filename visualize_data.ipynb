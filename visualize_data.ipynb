{
 "cells": [
  {
   "cell_type": "code",
   "execution_count": 5,
   "id": "c5fadb30",
   "metadata": {},
   "outputs": [
    {
     "data": {
      "text/plain": [
       "dict_keys(['exoR', 'world', 'ego2R', 'exoL', 'ego1L', 'ego2L', 'ego1R'])"
      ]
     },
     "execution_count": 5,
     "metadata": {},
     "output_type": "execute_result"
    }
   ],
   "source": [
    "import joblib\n",
    "\n",
    "data = joblib.load(\"/datasets/Inter-X/motions/G020T004A024R021/data/nao_1_data.pkl\")\n",
    "\n",
    "data.keys()"
   ]
  },
  {
   "cell_type": "code",
   "execution_count": 6,
   "id": "984e409a",
   "metadata": {},
   "outputs": [
    {
     "data": {
      "text/plain": [
       "dict_keys(['pose2D_total', 'pose2D', 'pose3D_total', 'pose3D', 'camera_params', 'bb2D'])"
      ]
     },
     "execution_count": 6,
     "metadata": {},
     "output_type": "execute_result"
    }
   ],
   "source": [
    "data[\"exoR\"].keys()"
   ]
  },
  {
   "cell_type": "code",
   "execution_count": 12,
   "id": "62b1354c",
   "metadata": {},
   "outputs": [
    {
     "data": {
      "text/plain": [
       "{'K': array([[360.,   0., 640.],\n",
       "        [  0., 360., 360.],\n",
       "        [  0.,   0.,   1.]]),\n",
       " 'E': array([[[-0.04782791, -0.04530377,  0.90761785,  0.05066959],\n",
       "         [ 0.90534418,  0.07766376,  0.05140948, -0.58731622],\n",
       "         [-0.0798717 ,  0.99575769,  0.04128684,  0.51991651],\n",
       "         [ 0.        ,  0.        ,  0.        ,  1.        ]],\n",
       " \n",
       "        [[-0.04761502, -0.0451822 ,  0.90851046,  0.0507093 ],\n",
       "         [ 0.90615292,  0.07861713,  0.05122655, -0.58712375],\n",
       "         [-0.08080862,  0.99568709,  0.04113454,  0.51998964],\n",
       "         [ 0.        ,  0.        ,  0.        ,  1.        ]],\n",
       " \n",
       "        [[-0.04738186, -0.04492778,  0.90913639,  0.05078559],\n",
       "         [ 0.9066801 ,  0.07966451,  0.0510163 , -0.586891  ],\n",
       "         [-0.08183196,  0.99561338,  0.04084691,  0.52007254],\n",
       "         [ 0.        ,  0.        ,  0.        ,  1.        ]],\n",
       " \n",
       "        ...,\n",
       " \n",
       "        [[ 0.57795699,  0.09497943,  0.75468729,  0.0506158 ],\n",
       "         [ 0.76032596, -0.08728441, -0.5715042 , -0.76952506],\n",
       "         [ 0.01408691,  0.99143069, -0.12822332,  0.5191837 ],\n",
       "         [ 0.        ,  0.        ,  0.        ,  1.        ]],\n",
       " \n",
       "        [[ 0.5761255 ,  0.0959691 ,  0.75726075,  0.05065852],\n",
       "         [ 0.76300491, -0.0875907 , -0.56960546, -0.76991788],\n",
       "         [ 0.01410765,  0.99131057, -0.12916336,  0.51927557],\n",
       "         [ 0.        ,  0.        ,  0.        ,  1.        ]],\n",
       " \n",
       "        [[ 0.58164297,  0.09766888,  0.75026945,  0.05106867],\n",
       "         [ 0.75631782, -0.08621128, -0.57532519, -0.76928239],\n",
       "         [ 0.01093189,  0.99125374, -0.12981559,  0.51944119],\n",
       "         [ 0.        ,  0.        ,  0.        ,  1.        ]]],\n",
       "       shape=(652, 4, 4))}"
      ]
     },
     "execution_count": 12,
     "metadata": {},
     "output_type": "execute_result"
    }
   ],
   "source": [
    "data[\"ego1L\"][\"camera_params\"]"
   ]
  },
  {
   "cell_type": "code",
   "execution_count": 4,
   "id": "71494c91",
   "metadata": {},
   "outputs": [
    {
     "name": "stdout",
     "output_type": "stream",
     "text": [
      "(14, 2)\n"
     ]
    },
    {
     "ename": "IndexError",
     "evalue": "index 14 is out of bounds for axis 0 with size 14",
     "output_type": "error",
     "traceback": [
      "\u001b[31m---------------------------------------------------------------------------\u001b[39m",
      "\u001b[31mIndexError\u001b[39m                                Traceback (most recent call last)",
      "\u001b[36mCell\u001b[39m\u001b[36m \u001b[39m\u001b[32mIn[4]\u001b[39m\u001b[32m, line 13\u001b[39m\n\u001b[32m      8\u001b[39m mask = [\u001b[32m14\u001b[39m,\u001b[32m15\u001b[39m,\u001b[32m2\u001b[39m,\u001b[32m4\u001b[39m,\u001b[32m5\u001b[39m,\u001b[32m17\u001b[39m,\u001b[32m19\u001b[39m,\u001b[32m20\u001b[39m,\u001b[32m9\u001b[39m,\u001b[32m11\u001b[39m,\u001b[32m13\u001b[39m,\u001b[32m23\u001b[39m,\u001b[32m25\u001b[39m,\u001b[32m26\u001b[39m]\n\u001b[32m     11\u001b[39m \u001b[38;5;28;01mimport\u001b[39;00m\u001b[38;5;250m \u001b[39m\u001b[34;01mnumpy\u001b[39;00m\u001b[38;5;250m \u001b[39m\u001b[38;5;28;01mas\u001b[39;00m\u001b[38;5;250m \u001b[39m\u001b[34;01mnp\u001b[39;00m\n\u001b[32m---> \u001b[39m\u001b[32m13\u001b[39m final = np.unique(\u001b[43mpose\u001b[49m\u001b[43m[\u001b[49m\u001b[43mmask\u001b[49m\u001b[43m]\u001b[49m, axis=\u001b[32m0\u001b[39m, return_index=\u001b[38;5;28;01mTrue\u001b[39;00m)[\u001b[32m1\u001b[39m]\n\u001b[32m     15\u001b[39m \u001b[38;5;28mprint\u001b[39m(\u001b[38;5;28mlen\u001b[39m(final))\n\u001b[32m     16\u001b[39m \u001b[38;5;28mprint\u001b[39m(\u001b[38;5;28msorted\u001b[39m(final))\n",
      "\u001b[31mIndexError\u001b[39m: index 14 is out of bounds for axis 0 with size 14"
     ]
    }
   ],
   "source": [
    "\n",
    "pose = data[\"exoL\"]['pose2D'][0]\n",
    "\n",
    "print(pose.shape)\n",
    "import cv2\n",
    "\n",
    "color = cv2.imread(\"test.png\")\n",
    "\n",
    "mask = [14,15,2,4,5,17,19,20,9,11,13,23,25,26]\n",
    "\n",
    "\n",
    "import numpy as np\n",
    "\n",
    "final = np.unique(pose[mask], axis=0, return_index=True)[1]\n",
    "\n",
    "print(len(final))\n",
    "print(sorted(final))\n",
    "\n",
    "for p in pose[mask]:\n",
    "    cv2.circle(color,center=(int(p[0]),int(p[1])),radius=2,color=(0,0,255),thickness=2)\n",
    "\n",
    "cv2.imwrite(\"test2.png\", color)"
   ]
  }
 ],
 "metadata": {
  "kernelspec": {
   "display_name": "Robots",
   "language": "python",
   "name": "python3"
  },
  "language_info": {
   "codemirror_mode": {
    "name": "ipython",
    "version": 3
   },
   "file_extension": ".py",
   "mimetype": "text/x-python",
   "name": "python",
   "nbconvert_exporter": "python",
   "pygments_lexer": "ipython3",
   "version": "3.11.13"
  }
 },
 "nbformat": 4,
 "nbformat_minor": 5
}
