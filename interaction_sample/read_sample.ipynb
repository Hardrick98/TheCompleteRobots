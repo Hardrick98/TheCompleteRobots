{
 "cells": [
  {
   "cell_type": "code",
   "execution_count": null,
   "id": "2934ad2b",
   "metadata": {},
   "outputs": [
    {
     "data": {
      "text/plain": [
       "array([[[ 0.0000000e+00,  0.0000000e+00,  0.0000000e+00]],\n",
       "\n",
       "       [[ 1.1512041e-03,  3.9100647e-05,  1.3002753e-04]],\n",
       "\n",
       "       [[ 2.2851229e-03,  8.6903572e-05,  2.0632148e-04]],\n",
       "\n",
       "       ...,\n",
       "\n",
       "       [[-5.8216691e-02,  4.9225092e-03, -1.2237102e-02]],\n",
       "\n",
       "       [[-5.7955444e-02,  4.8818588e-03, -1.1721462e-02]],\n",
       "\n",
       "       [[-5.7670653e-02,  4.8208237e-03, -1.1223346e-02]]],\n",
       "      shape=(476, 1, 3), dtype=float32)"
      ]
     },
     "execution_count": 8,
     "metadata": {},
     "output_type": "execute_result"
    }
   ],
   "source": [
    "import numpy as np \n",
    "\n",
    "poses = np.load(\"P1.npz\", allow_pickle=True)\n",
    "\n",
    "\n",
    "poses[\"pose_body\"].shape\n",
    "poses[\"betas\"].shape\n",
    "poses[\"root_orient\"].shape\n",
    "translation = poses[\"trans\"].reshape(-1,1,3)\n",
    "translation[:] -= translation[0:1] #Force translation to start from 0,0,0\n",
    "translation\n"
   ]
  }
 ],
 "metadata": {
  "kernelspec": {
   "display_name": "Robots",
   "language": "python",
   "name": "python3"
  },
  "language_info": {
   "codemirror_mode": {
    "name": "ipython",
    "version": 3
   },
   "file_extension": ".py",
   "mimetype": "text/x-python",
   "name": "python",
   "nbconvert_exporter": "python",
   "pygments_lexer": "ipython3",
   "version": "3.11.0"
  }
 },
 "nbformat": 4,
 "nbformat_minor": 5
}
