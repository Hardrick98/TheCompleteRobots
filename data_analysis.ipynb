{
 "cells": [
  {
   "cell_type": "code",
   "execution_count": 14,
   "id": "5a296b4c",
   "metadata": {},
   "outputs": [],
   "source": [
    "import pandas as pd \n",
    "df = pd.read_csv(\"analysis.csv\")"
   ]
  },
  {
   "cell_type": "code",
   "execution_count": 15,
   "id": "8e058f18",
   "metadata": {},
   "outputs": [
    {
     "data": {
      "text/plain": [
       "Pose\n",
       "T_pose        62.880676\n",
       "salute        89.112628\n",
       "sit           97.019847\n",
       "superhero    104.259477\n",
       "Name: Error, dtype: float64"
      ]
     },
     "execution_count": 15,
     "metadata": {},
     "output_type": "execute_result"
    }
   ],
   "source": [
    "df.groupby([\"Pose\"])[\"Error\"].sum()"
   ]
  },
  {
   "cell_type": "code",
   "execution_count": null,
   "id": "9d043e7a",
   "metadata": {},
   "outputs": [
    {
     "data": {
      "text/plain": [
       "LLM\n",
       "chat        85.517801\n",
       "claude      78.329397\n",
       "deepseek    95.858958\n",
       "gemini      93.566471\n",
       "Name: Error, dtype: float64"
      ]
     },
     "execution_count": 16,
     "metadata": {},
     "output_type": "execute_result"
    }
   ],
   "source": [
    "df.groupby(\"LLM\")[\"Error\"].mean() #Best LLM"
   ]
  }
 ],
 "metadata": {
  "kernelspec": {
   "display_name": "Gaze",
   "language": "python",
   "name": "python3"
  },
  "language_info": {
   "codemirror_mode": {
    "name": "ipython",
    "version": 3
   },
   "file_extension": ".py",
   "mimetype": "text/x-python",
   "name": "python",
   "nbconvert_exporter": "python",
   "pygments_lexer": "ipython3",
   "version": "3.11.0"
  }
 },
 "nbformat": 4,
 "nbformat_minor": 5
}
